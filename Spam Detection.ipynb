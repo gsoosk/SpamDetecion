{
 "cells": [
  {
   "cell_type": "code",
   "execution_count": 1,
   "metadata": {},
   "outputs": [],
   "source": [
    "from jupyterthemes import jtplot\n",
    "jtplot.style()"
   ]
  },
  {
   "cell_type": "markdown",
   "metadata": {},
   "source": [
    "# Spam Detection "
   ]
  },
  {
   "cell_type": "markdown",
   "metadata": {},
   "source": [
    "This is a simple solution of this problem for begginers to introduce data science principles for a easy classification problem. In this `Kernel` we use `Pandas Dataframe` as Data structure and `sklearn` for machine learning stuffs."
   ]
  },
  {
   "cell_type": "markdown",
   "metadata": {},
   "source": [
    "### A Data Science Framework\n",
    "\n",
    "\n",
    "\n",
    "1. **Define the Problem:** If data science, big data, machine learning, predictive analytics, business intelligence, or any other buzzword is the solution, then what is the problem? As the saying goes, don't put the cart before the horse. Problems before requirements, requirements before solutions, solutions before design, and design before technology. Too often we are quick to jump on the new shiny technology, tool, or algorithm before determining the actual problem we are trying to solve.\n",
    "\n",
    "2. **Gather the Data:** John Naisbitt wrote in his 1984 (yes, 1984) book Megatrends, we are “drowning in data, yet staving for knowledge.\" So, chances are, the dataset(s) already exist somewhere, in some format. It may be external or internal, structured or unstructured, static or streamed, objective or subjective, etc. As the saying goes, you don't have to reinvent the wheel, you just have to know where to find it. In the next step, we will worry about transforming \"dirty data\" to \"clean data.\"\n",
    "\n",
    "3. **Prepare Data for Consumption:** This step is often referred to as data wrangling, a required process to turn “wild” data into “manageable” data. Data wrangling includes implementing data architectures for storage and processing, developing data governance standards for quality and control, data extraction (i.e. ETL and web scraping), and data cleaning to identify aberrant, missing, or outlier data points.\n",
    "\n",
    "4. **Perform Exploratory Analysis:** Anybody who has ever worked with data knows, garbage-in, garbage-out (GIGO). Therefore, it is important to deploy descriptive and graphical statistics to look for potential problems, patterns, classifications, correlations and comparisons in the dataset. In addition, data categorization (i.e. qualitative vs quantitative) is also important to understand and select the correct hypothesis test or data model.\n",
    "\n",
    "5. **Model Data:** Like descriptive and inferential statistics, data modeling can either summarize the data or predict future outcomes. Your dataset and expected results, will determine the algorithms available for use. It's important to remember, algorithms are tools and not magical wands or silver bullets. You must still be the master craft (wo)man that knows how-to select the right tool for the job. An analogy would be asking someone to hand you a Philip screwdriver, and they hand you a flathead screwdriver or worst a hammer. At best, it shows a complete lack of understanding. At worst, it makes completing the project impossible. The same is true in data modelling. The wrong model can lead to poor performance at best and the wrong conclusion (that’s used as actionable intelligence) at worst.\n",
    "\n",
    "\n",
    "6. **Validate and Implement Data Model:** After you've trained your model based on a subset of your data, it's time to test your model. This helps ensure you haven't overfit your model or made it so specific to the selected subset, that it does not accurately fit another subset from the same dataset. In this step we determine if our model overfit, generalize, or underfit our dataset.\n",
    "\n",
    "\n",
    "7. **Optimize and Strategize:** This is the \"bionic man\" step, where you iterate back through the process to make it better...stronger...faster than it was before. As a data scientist, your strategy should be to outsource developer operations and application plumbing, so you have more time to focus on recommendations and design. Once you're able to package your ideas, this becomes your “currency exchange\" rate.\n",
    "\n",
    "*Source : [A Data Science Framework: To Achieve 99% Accuracy](https://www.kaggle.com/ldfreeman3/a-data-science-framework-to-achieve-99-accuracy)*"
   ]
  },
  {
   "cell_type": "markdown",
   "metadata": {},
   "source": [
    "## Step1: Define the Problem\n",
    "In this problem we want to find all spams using classification problems. There is some significant words in spams which can be used to find spams. "
   ]
  },
  {
   "cell_type": "markdown",
   "metadata": {},
   "source": [
    "## Step2: Gather the Data\n",
    "We are using [this](https://www.kaggle.com/uciml/sms-spam-collection-dataset) dataset from kaggle website. This is a collection of SMS messages tagged if they are `spam` or `ham`."
   ]
  },
  {
   "cell_type": "markdown",
   "metadata": {},
   "source": [
    "## Step3: Prepare the Data \n",
    "I think this step is the most step of these kind of problems. "
   ]
  },
  {
   "cell_type": "markdown",
   "metadata": {},
   "source": [
    "### Meet and Greet Data"
   ]
  },
  {
   "cell_type": "markdown",
   "metadata": {},
   "source": [
    "Firs we create a repository for our inputs. "
   ]
  },
  {
   "cell_type": "code",
   "execution_count": 2,
   "metadata": {},
   "outputs": [],
   "source": [
    "import os\n",
    "# print(os.listdir(\"../input\")) # For kaggle kernel"
   ]
  },
  {
   "cell_type": "markdown",
   "metadata": {},
   "source": [
    "As i said we use `Pandas Dataframe` as our data structure. so we import it and load `spam.csv`."
   ]
  },
  {
   "cell_type": "code",
   "execution_count": 3,
   "metadata": {},
   "outputs": [],
   "source": [
    "import pandas as pd \n",
    "import numpy as np\n",
    "# DATASET_DIR = '../input'  # For kaggle kernel\n",
    "DATASET_DIR = './datasets/spam'\n",
    "DATASET_NAME = 'spam.csv'\n",
    "dataset_path = os.path.join(DATASET_DIR, DATASET_NAME)\n",
    "dataset = pd.read_csv(dataset_path, encoding='ISO-8859-1')"
   ]
  },
  {
   "cell_type": "code",
   "execution_count": 4,
   "metadata": {
    "_cell_guid": "79c7e3d0-c299-4dcb-8224-4455121ee9b0",
    "_uuid": "d629ff2d2480ee46fbb7e2d37f6b5fab8052498a"
   },
   "outputs": [
    {
     "data": {
      "text/html": [
       "<div>\n",
       "<style scoped>\n",
       "    .dataframe tbody tr th:only-of-type {\n",
       "        vertical-align: middle;\n",
       "    }\n",
       "\n",
       "    .dataframe tbody tr th {\n",
       "        vertical-align: top;\n",
       "    }\n",
       "\n",
       "    .dataframe thead th {\n",
       "        text-align: right;\n",
       "    }\n",
       "</style>\n",
       "<table border=\"1\" class=\"dataframe\">\n",
       "  <thead>\n",
       "    <tr style=\"text-align: right;\">\n",
       "      <th></th>\n",
       "      <th>v1</th>\n",
       "      <th>v2</th>\n",
       "      <th>Unnamed: 2</th>\n",
       "      <th>Unnamed: 3</th>\n",
       "      <th>Unnamed: 4</th>\n",
       "    </tr>\n",
       "  </thead>\n",
       "  <tbody>\n",
       "    <tr>\n",
       "      <th>0</th>\n",
       "      <td>ham</td>\n",
       "      <td>Go until jurong point, crazy.. Available only ...</td>\n",
       "      <td>NaN</td>\n",
       "      <td>NaN</td>\n",
       "      <td>NaN</td>\n",
       "    </tr>\n",
       "    <tr>\n",
       "      <th>1</th>\n",
       "      <td>ham</td>\n",
       "      <td>Ok lar... Joking wif u oni...</td>\n",
       "      <td>NaN</td>\n",
       "      <td>NaN</td>\n",
       "      <td>NaN</td>\n",
       "    </tr>\n",
       "    <tr>\n",
       "      <th>2</th>\n",
       "      <td>spam</td>\n",
       "      <td>Free entry in 2 a wkly comp to win FA Cup fina...</td>\n",
       "      <td>NaN</td>\n",
       "      <td>NaN</td>\n",
       "      <td>NaN</td>\n",
       "    </tr>\n",
       "    <tr>\n",
       "      <th>3</th>\n",
       "      <td>ham</td>\n",
       "      <td>U dun say so early hor... U c already then say...</td>\n",
       "      <td>NaN</td>\n",
       "      <td>NaN</td>\n",
       "      <td>NaN</td>\n",
       "    </tr>\n",
       "    <tr>\n",
       "      <th>4</th>\n",
       "      <td>ham</td>\n",
       "      <td>Nah I don't think he goes to usf, he lives aro...</td>\n",
       "      <td>NaN</td>\n",
       "      <td>NaN</td>\n",
       "      <td>NaN</td>\n",
       "    </tr>\n",
       "  </tbody>\n",
       "</table>\n",
       "</div>"
      ],
      "text/plain": [
       "     v1                                                 v2 Unnamed: 2  \\\n",
       "0   ham  Go until jurong point, crazy.. Available only ...        NaN   \n",
       "1   ham                      Ok lar... Joking wif u oni...        NaN   \n",
       "2  spam  Free entry in 2 a wkly comp to win FA Cup fina...        NaN   \n",
       "3   ham  U dun say so early hor... U c already then say...        NaN   \n",
       "4   ham  Nah I don't think he goes to usf, he lives aro...        NaN   \n",
       "\n",
       "  Unnamed: 3 Unnamed: 4  \n",
       "0        NaN        NaN  \n",
       "1        NaN        NaN  \n",
       "2        NaN        NaN  \n",
       "3        NaN        NaN  \n",
       "4        NaN        NaN  "
      ]
     },
     "execution_count": 4,
     "metadata": {},
     "output_type": "execute_result"
    }
   ],
   "source": [
    "dataset.head()"
   ]
  },
  {
   "cell_type": "markdown",
   "metadata": {},
   "source": [
    "### Split TrainSet and TestSet \n",
    "It is important to split these two. You always should split test set at the beggining of your solution. At the end of solution you return to test set again and use it just for test!\n"
   ]
  },
  {
   "cell_type": "markdown",
   "metadata": {},
   "source": [
    "#### How to split these two ?\n",
    "Well there is some ways to do that. For example you can select a fraction of your dataset by index (aka. 0 to 1000 indices). Another way which used is random selection. But what if we want to run our thest again?? Well we can select a const random seed. I use `sklearn` for this which used random strategy. "
   ]
  },
  {
   "cell_type": "markdown",
   "metadata": {},
   "source": [
    "First we split labels from other datas"
   ]
  },
  {
   "cell_type": "code",
   "execution_count": 5,
   "metadata": {},
   "outputs": [],
   "source": [
    "X = dataset.drop('v1', axis=1)\n",
    "y = dataset['v1']"
   ]
  },
  {
   "cell_type": "markdown",
   "metadata": {},
   "source": [
    "Then Split them."
   ]
  },
  {
   "cell_type": "code",
   "execution_count": 6,
   "metadata": {},
   "outputs": [
    {
     "data": {
      "text/html": [
       "<div>\n",
       "<style scoped>\n",
       "    .dataframe tbody tr th:only-of-type {\n",
       "        vertical-align: middle;\n",
       "    }\n",
       "\n",
       "    .dataframe tbody tr th {\n",
       "        vertical-align: top;\n",
       "    }\n",
       "\n",
       "    .dataframe thead th {\n",
       "        text-align: right;\n",
       "    }\n",
       "</style>\n",
       "<table border=\"1\" class=\"dataframe\">\n",
       "  <thead>\n",
       "    <tr style=\"text-align: right;\">\n",
       "      <th></th>\n",
       "      <th>v2</th>\n",
       "      <th>Unnamed: 2</th>\n",
       "      <th>Unnamed: 3</th>\n",
       "      <th>Unnamed: 4</th>\n",
       "    </tr>\n",
       "  </thead>\n",
       "  <tbody>\n",
       "    <tr>\n",
       "      <th>1978</th>\n",
       "      <td>No I'm in the same boat. Still here at my moms...</td>\n",
       "      <td>NaN</td>\n",
       "      <td>NaN</td>\n",
       "      <td>NaN</td>\n",
       "    </tr>\n",
       "    <tr>\n",
       "      <th>3989</th>\n",
       "      <td>(Bank of Granite issues Strong-Buy) EXPLOSIVE ...</td>\n",
       "      <td>NaN</td>\n",
       "      <td>NaN</td>\n",
       "      <td>NaN</td>\n",
       "    </tr>\n",
       "    <tr>\n",
       "      <th>3935</th>\n",
       "      <td>They r giving a second chance to rahul dengra.</td>\n",
       "      <td>NaN</td>\n",
       "      <td>NaN</td>\n",
       "      <td>NaN</td>\n",
       "    </tr>\n",
       "    <tr>\n",
       "      <th>4078</th>\n",
       "      <td>O i played smash bros  &amp;lt;#&amp;gt;  religiously.</td>\n",
       "      <td>NaN</td>\n",
       "      <td>NaN</td>\n",
       "      <td>NaN</td>\n",
       "    </tr>\n",
       "    <tr>\n",
       "      <th>4086</th>\n",
       "      <td>PRIVATE! Your 2003 Account Statement for 07973...</td>\n",
       "      <td>NaN</td>\n",
       "      <td>NaN</td>\n",
       "      <td>NaN</td>\n",
       "    </tr>\n",
       "  </tbody>\n",
       "</table>\n",
       "</div>"
      ],
      "text/plain": [
       "                                                     v2 Unnamed: 2 Unnamed: 3  \\\n",
       "1978  No I'm in the same boat. Still here at my moms...        NaN        NaN   \n",
       "3989  (Bank of Granite issues Strong-Buy) EXPLOSIVE ...        NaN        NaN   \n",
       "3935     They r giving a second chance to rahul dengra.        NaN        NaN   \n",
       "4078     O i played smash bros  &lt;#&gt;  religiously.        NaN        NaN   \n",
       "4086  PRIVATE! Your 2003 Account Statement for 07973...        NaN        NaN   \n",
       "\n",
       "     Unnamed: 4  \n",
       "1978        NaN  \n",
       "3989        NaN  \n",
       "3935        NaN  \n",
       "4078        NaN  \n",
       "4086        NaN  "
      ]
     },
     "execution_count": 6,
     "metadata": {},
     "output_type": "execute_result"
    }
   ],
   "source": [
    "from sklearn.model_selection import train_test_split\n",
    "X_train, X_test, y_train, y_test = train_test_split(X, y, test_size=0.2, random_state=42)\n",
    "X_train.head()"
   ]
  },
  {
   "cell_type": "markdown",
   "metadata": {},
   "source": [
    "This method also shuffle datas. So you don't need to shuffle them. If you selected train and test sets manually you should shuffle them. Becasue it could be dependancy between datas in a sequence and it impacts on your classification."
   ]
  },
  {
   "cell_type": "markdown",
   "metadata": {},
   "source": [
    "### The 4 C's of Data Cleaning: Correcting, Completing, Creating, and Converting"
   ]
  },
  {
   "cell_type": "markdown",
   "metadata": {},
   "source": [
    "#### Correcting and Completing\n",
    "We should first review our data and see if there is not to be unaccaptable features and datas. Also there is null values in our data some algorithms can handle null values but it's better to handle these null values.\n",
    "\n",
    "For this first see our data informations. "
   ]
  },
  {
   "cell_type": "code",
   "execution_count": 7,
   "metadata": {},
   "outputs": [
    {
     "name": "stdout",
     "output_type": "stream",
     "text": [
      "<class 'pandas.core.frame.DataFrame'>\n",
      "Int64Index: 4457 entries, 1978 to 860\n",
      "Data columns (total 4 columns):\n",
      "v2            4457 non-null object\n",
      "Unnamed: 2    38 non-null object\n",
      "Unnamed: 3    9 non-null object\n",
      "Unnamed: 4    5 non-null object\n",
      "dtypes: object(4)\n",
      "memory usage: 174.1+ KB\n"
     ]
    }
   ],
   "source": [
    "X_train.info()"
   ]
  },
  {
   "cell_type": "markdown",
   "metadata": {},
   "source": [
    "**There is a lot's of null values in 3 last columns. We can recognize these columns are not usefull and we can drop them.**"
   ]
  },
  {
   "cell_type": "markdown",
   "metadata": {},
   "source": [
    "For this goal we write a sklearn transformer to use it with our pipelines in future."
   ]
  },
  {
   "cell_type": "code",
   "execution_count": 8,
   "metadata": {},
   "outputs": [],
   "source": [
    "from sklearn.base import BaseEstimator, TransformerMixin\n",
    "class DataFrameSelection(BaseEstimator, TransformerMixin):\n",
    "    def __init__(self, attrs):\n",
    "        self.attrs = attrs\n",
    "    def fit(self, X, y=None):\n",
    "        return self\n",
    "    def transform(self, X, y=None):\n",
    "        return X[attrs]"
   ]
  },
  {
   "cell_type": "code",
   "execution_count": 9,
   "metadata": {},
   "outputs": [
    {
     "data": {
      "text/html": [
       "<div>\n",
       "<style scoped>\n",
       "    .dataframe tbody tr th:only-of-type {\n",
       "        vertical-align: middle;\n",
       "    }\n",
       "\n",
       "    .dataframe tbody tr th {\n",
       "        vertical-align: top;\n",
       "    }\n",
       "\n",
       "    .dataframe thead th {\n",
       "        text-align: right;\n",
       "    }\n",
       "</style>\n",
       "<table border=\"1\" class=\"dataframe\">\n",
       "  <thead>\n",
       "    <tr style=\"text-align: right;\">\n",
       "      <th></th>\n",
       "      <th>v2</th>\n",
       "    </tr>\n",
       "  </thead>\n",
       "  <tbody>\n",
       "    <tr>\n",
       "      <th>1978</th>\n",
       "      <td>No I'm in the same boat. Still here at my moms...</td>\n",
       "    </tr>\n",
       "    <tr>\n",
       "      <th>3989</th>\n",
       "      <td>(Bank of Granite issues Strong-Buy) EXPLOSIVE ...</td>\n",
       "    </tr>\n",
       "    <tr>\n",
       "      <th>3935</th>\n",
       "      <td>They r giving a second chance to rahul dengra.</td>\n",
       "    </tr>\n",
       "    <tr>\n",
       "      <th>4078</th>\n",
       "      <td>O i played smash bros  &amp;lt;#&amp;gt;  religiously.</td>\n",
       "    </tr>\n",
       "    <tr>\n",
       "      <th>4086</th>\n",
       "      <td>PRIVATE! Your 2003 Account Statement for 07973...</td>\n",
       "    </tr>\n",
       "  </tbody>\n",
       "</table>\n",
       "</div>"
      ],
      "text/plain": [
       "                                                     v2\n",
       "1978  No I'm in the same boat. Still here at my moms...\n",
       "3989  (Bank of Granite issues Strong-Buy) EXPLOSIVE ...\n",
       "3935     They r giving a second chance to rahul dengra.\n",
       "4078     O i played smash bros  &lt;#&gt;  religiously.\n",
       "4086  PRIVATE! Your 2003 Account Statement for 07973..."
      ]
     },
     "execution_count": 9,
     "metadata": {},
     "output_type": "execute_result"
    }
   ],
   "source": [
    "attrs = ['v2']\n",
    "selector = DataFrameSelection(attrs)\n",
    "X = selector.transform(X_train)\n",
    "X.head()"
   ]
  },
  {
   "cell_type": "markdown",
   "metadata": {},
   "source": [
    "We should also change labels to a numeric code. We use sklearn LabelEncoder for these purpose."
   ]
  },
  {
   "cell_type": "code",
   "execution_count": 10,
   "metadata": {},
   "outputs": [
    {
     "data": {
      "text/plain": [
       "array([0, 1, 0, ..., 0, 0, 0])"
      ]
     },
     "execution_count": 10,
     "metadata": {},
     "output_type": "execute_result"
    }
   ],
   "source": [
    "from sklearn.preprocessing import LabelEncoder\n",
    "encoder = LabelEncoder()\n",
    "y_train = encoder.fit_transform(y_train)\n",
    "y_test = encoder.fit_transform(y_test)\n",
    "y_train"
   ]
  },
  {
   "cell_type": "markdown",
   "metadata": {},
   "source": [
    "### Creating\n",
    "To create new features that can help us to solve this problem we should first analys our data to find out important words. then we can use them to create a `sparse matrix` of existence of these words in message."
   ]
  },
  {
   "cell_type": "markdown",
   "metadata": {},
   "source": [
    "First let join X and y to can analys data"
   ]
  },
  {
   "cell_type": "code",
   "execution_count": 11,
   "metadata": {},
   "outputs": [
    {
     "name": "stderr",
     "output_type": "stream",
     "text": [
      "/usr/local/lib/python3.7/site-packages/ipykernel_launcher.py:2: SettingWithCopyWarning: \n",
      "A value is trying to be set on a copy of a slice from a DataFrame.\n",
      "Try using .loc[row_indexer,col_indexer] = value instead\n",
      "\n",
      "See the caveats in the documentation: http://pandas.pydata.org/pandas-docs/stable/indexing.html#indexing-view-versus-copy\n",
      "  \n"
     ]
    },
    {
     "data": {
      "text/html": [
       "<div>\n",
       "<style scoped>\n",
       "    .dataframe tbody tr th:only-of-type {\n",
       "        vertical-align: middle;\n",
       "    }\n",
       "\n",
       "    .dataframe tbody tr th {\n",
       "        vertical-align: top;\n",
       "    }\n",
       "\n",
       "    .dataframe thead th {\n",
       "        text-align: right;\n",
       "    }\n",
       "</style>\n",
       "<table border=\"1\" class=\"dataframe\">\n",
       "  <thead>\n",
       "    <tr style=\"text-align: right;\">\n",
       "      <th></th>\n",
       "      <th>v2</th>\n",
       "      <th>status</th>\n",
       "    </tr>\n",
       "  </thead>\n",
       "  <tbody>\n",
       "    <tr>\n",
       "      <th>1978</th>\n",
       "      <td>No I'm in the same boat. Still here at my moms...</td>\n",
       "      <td>0</td>\n",
       "    </tr>\n",
       "    <tr>\n",
       "      <th>3989</th>\n",
       "      <td>(Bank of Granite issues Strong-Buy) EXPLOSIVE ...</td>\n",
       "      <td>1</td>\n",
       "    </tr>\n",
       "    <tr>\n",
       "      <th>3935</th>\n",
       "      <td>They r giving a second chance to rahul dengra.</td>\n",
       "      <td>0</td>\n",
       "    </tr>\n",
       "    <tr>\n",
       "      <th>4078</th>\n",
       "      <td>O i played smash bros  &amp;lt;#&amp;gt;  religiously.</td>\n",
       "      <td>0</td>\n",
       "    </tr>\n",
       "    <tr>\n",
       "      <th>4086</th>\n",
       "      <td>PRIVATE! Your 2003 Account Statement for 07973...</td>\n",
       "      <td>1</td>\n",
       "    </tr>\n",
       "  </tbody>\n",
       "</table>\n",
       "</div>"
      ],
      "text/plain": [
       "                                                     v2  status\n",
       "1978  No I'm in the same boat. Still here at my moms...       0\n",
       "3989  (Bank of Granite issues Strong-Buy) EXPLOSIVE ...       1\n",
       "3935     They r giving a second chance to rahul dengra.       0\n",
       "4078     O i played smash bros  &lt;#&gt;  religiously.       0\n",
       "4086  PRIVATE! Your 2003 Account Statement for 07973...       1"
      ]
     },
     "execution_count": 11,
     "metadata": {},
     "output_type": "execute_result"
    }
   ],
   "source": [
    "Xy = X\n",
    "Xy['status'] = y_train\n",
    "Xy.head()"
   ]
  },
  {
   "cell_type": "markdown",
   "metadata": {},
   "source": [
    "First See how much of them are spams\n"
   ]
  },
  {
   "cell_type": "code",
   "execution_count": 12,
   "metadata": {},
   "outputs": [
    {
     "name": "stdout",
     "output_type": "stream",
     "text": [
      "prob of spam is 0.13394660085259144\n"
     ]
    },
    {
     "data": {
      "image/png": "[encoded data removed]",
      "text/plain": [
       "<Figure size 432x288 with 1 Axes>"
      ]
     },
     "metadata": {},
     "output_type": "display_data"
    }
   ],
   "source": [
    "import matplotlib.pyplot as plt\n",
    "plt.bar(('ham', 'spam'), (len(Xy[Xy['status'] == 0]),len(Xy[Xy['status'] == 1])), color='r')\n",
    "prob = len(Xy[Xy['status'] == 1])/len(Xy)\n",
    "print(f\"prob of spam is {prob}\")"
   ]
  },
  {
   "cell_type": "markdown",
   "metadata": {},
   "source": [
    "Well there is a lots of ham data in training data"
   ]
  },
  {
   "cell_type": "code",
   "execution_count": 13,
   "metadata": {},
   "outputs": [
    {
     "data": {
      "text/html": [
       "<div>\n",
       "<style scoped>\n",
       "    .dataframe tbody tr th:only-of-type {\n",
       "        vertical-align: middle;\n",
       "    }\n",
       "\n",
       "    .dataframe tbody tr th {\n",
       "        vertical-align: top;\n",
       "    }\n",
       "\n",
       "    .dataframe thead tr th {\n",
       "        text-align: left;\n",
       "    }\n",
       "\n",
       "    .dataframe thead tr:last-of-type th {\n",
       "        text-align: right;\n",
       "    }\n",
       "</style>\n",
       "<table border=\"1\" class=\"dataframe\">\n",
       "  <thead>\n",
       "    <tr>\n",
       "      <th></th>\n",
       "      <th colspan=\"4\" halign=\"left\">v2</th>\n",
       "    </tr>\n",
       "    <tr>\n",
       "      <th></th>\n",
       "      <th>count</th>\n",
       "      <th>unique</th>\n",
       "      <th>top</th>\n",
       "      <th>freq</th>\n",
       "    </tr>\n",
       "    <tr>\n",
       "      <th>status</th>\n",
       "      <th></th>\n",
       "      <th></th>\n",
       "      <th></th>\n",
       "      <th></th>\n",
       "    </tr>\n",
       "  </thead>\n",
       "  <tbody>\n",
       "    <tr>\n",
       "      <th>0</th>\n",
       "      <td>3860</td>\n",
       "      <td>3657</td>\n",
       "      <td>Sorry, I'll call later</td>\n",
       "      <td>22</td>\n",
       "    </tr>\n",
       "    <tr>\n",
       "      <th>1</th>\n",
       "      <td>597</td>\n",
       "      <td>537</td>\n",
       "      <td>FREE for 1st week! No1 Nokia tone 4 ur mob eve...</td>\n",
       "      <td>3</td>\n",
       "    </tr>\n",
       "  </tbody>\n",
       "</table>\n",
       "</div>"
      ],
      "text/plain": [
       "          v2                                                               \n",
       "       count unique                                                top freq\n",
       "status                                                                     \n",
       "0       3860   3657                             Sorry, I'll call later   22\n",
       "1        597    537  FREE for 1st week! No1 Nokia tone 4 ur mob eve...    3"
      ]
     },
     "execution_count": 13,
     "metadata": {},
     "output_type": "execute_result"
    }
   ],
   "source": [
    "Xy.groupby('status').describe()"
   ]
  },
  {
   "cell_type": "markdown",
   "metadata": {},
   "source": [
    "We add length to find out if it is important or not."
   ]
  },
  {
   "cell_type": "code",
   "execution_count": 14,
   "metadata": {},
   "outputs": [],
   "source": [
    "class LengthAdder(BaseEstimator, TransformerMixin):\n",
    "    def __init__(self, msg_attr='v2'):\n",
    "        self.msg_attr = msg_attr\n",
    "    def fit(self, X, y=None):\n",
    "        return self\n",
    "    def transform(self, X, y=None):\n",
    "        dataset = X.copy()\n",
    "        dataset['len'] = X[self.msg_attr].apply(len)\n",
    "        return dataset"
   ]
  },
  {
   "cell_type": "code",
   "execution_count": 15,
   "metadata": {},
   "outputs": [
    {
     "data": {
      "text/html": [
       "<div>\n",
       "<style scoped>\n",
       "    .dataframe tbody tr th:only-of-type {\n",
       "        vertical-align: middle;\n",
       "    }\n",
       "\n",
       "    .dataframe tbody tr th {\n",
       "        vertical-align: top;\n",
       "    }\n",
       "\n",
       "    .dataframe thead th {\n",
       "        text-align: right;\n",
       "    }\n",
       "</style>\n",
       "<table border=\"1\" class=\"dataframe\">\n",
       "  <thead>\n",
       "    <tr style=\"text-align: right;\">\n",
       "      <th></th>\n",
       "      <th>v2</th>\n",
       "      <th>status</th>\n",
       "      <th>len</th>\n",
       "    </tr>\n",
       "  </thead>\n",
       "  <tbody>\n",
       "    <tr>\n",
       "      <th>1978</th>\n",
       "      <td>No I'm in the same boat. Still here at my moms...</td>\n",
       "      <td>0</td>\n",
       "      <td>83</td>\n",
       "    </tr>\n",
       "    <tr>\n",
       "      <th>3989</th>\n",
       "      <td>(Bank of Granite issues Strong-Buy) EXPLOSIVE ...</td>\n",
       "      <td>1</td>\n",
       "      <td>137</td>\n",
       "    </tr>\n",
       "    <tr>\n",
       "      <th>3935</th>\n",
       "      <td>They r giving a second chance to rahul dengra.</td>\n",
       "      <td>0</td>\n",
       "      <td>46</td>\n",
       "    </tr>\n",
       "    <tr>\n",
       "      <th>4078</th>\n",
       "      <td>O i played smash bros  &amp;lt;#&amp;gt;  religiously.</td>\n",
       "      <td>0</td>\n",
       "      <td>46</td>\n",
       "    </tr>\n",
       "    <tr>\n",
       "      <th>4086</th>\n",
       "      <td>PRIVATE! Your 2003 Account Statement for 07973...</td>\n",
       "      <td>1</td>\n",
       "      <td>148</td>\n",
       "    </tr>\n",
       "  </tbody>\n",
       "</table>\n",
       "</div>"
      ],
      "text/plain": [
       "                                                     v2  status  len\n",
       "1978  No I'm in the same boat. Still here at my moms...       0   83\n",
       "3989  (Bank of Granite issues Strong-Buy) EXPLOSIVE ...       1  137\n",
       "3935     They r giving a second chance to rahul dengra.       0   46\n",
       "4078     O i played smash bros  &lt;#&gt;  religiously.       0   46\n",
       "4086  PRIVATE! Your 2003 Account Statement for 07973...       1  148"
      ]
     },
     "execution_count": 15,
     "metadata": {},
     "output_type": "execute_result"
    }
   ],
   "source": [
    "Xy = LengthAdder().transform(Xy)\n",
    "Xy.head()"
   ]
  },
  {
   "cell_type": "code",
   "execution_count": 16,
   "metadata": {},
   "outputs": [
    {
     "data": {
      "text/plain": [
       "array([<matplotlib.axes._subplots.AxesSubplot object at 0x1180953c8>,\n",
       "       <matplotlib.axes._subplots.AxesSubplot object at 0x104efdc88>],\n",
       "      dtype=object)"
      ]
     },
     "execution_count": 16,
     "metadata": {},
     "output_type": "execute_result"
    },
    {
     "data": {
      "image/png": "[encoded data removed]",
      "text/plain": [
       "<Figure size 1080x504 with 2 Axes>"
      ]
     },
     "metadata": {},
     "output_type": "display_data"
    }
   ],
   "source": [
    "Xy.hist(column='len', by='status', bins=25, figsize=(15, 7))"
   ]
  },
  {
   "cell_type": "markdown",
   "metadata": {},
   "source": [
    "From this we can recognize that length of msg can be usefull to find out spam messages."
   ]
  },
  {
   "cell_type": "markdown",
   "metadata": {},
   "source": [
    "##### Creating Sparse Matrix\n",
    "to find out spam messages there is a way to get all possible words in messages and create a sparse matrix of existence of word in message or not. Then train classifier on this sparse matrix.\n",
    "\n",
    "For that we write a transformer which convert our messages to corresponding sparse matrix."
   ]
  },
  {
   "cell_type": "markdown",
   "metadata": {},
   "source": [
    "But before that we should add some hyperparamters. Like converting messages to lowercase, remove punctuation, replace all URLs with `URL`, replace all numbers with `NUMBER`, or even perform stemming."
   ]
  },
  {
   "cell_type": "markdown",
   "metadata": {},
   "source": [
    "#### To Lower Case \n",
    "if we want to compare words to each other they should all be in lower case. So lets transform it."
   ]
  },
  {
   "cell_type": "code",
   "execution_count": 17,
   "metadata": {},
   "outputs": [
    {
     "data": {
      "text/html": [
       "<div>\n",
       "<style scoped>\n",
       "    .dataframe tbody tr th:only-of-type {\n",
       "        vertical-align: middle;\n",
       "    }\n",
       "\n",
       "    .dataframe tbody tr th {\n",
       "        vertical-align: top;\n",
       "    }\n",
       "\n",
       "    .dataframe thead th {\n",
       "        text-align: right;\n",
       "    }\n",
       "</style>\n",
       "<table border=\"1\" class=\"dataframe\">\n",
       "  <thead>\n",
       "    <tr style=\"text-align: right;\">\n",
       "      <th></th>\n",
       "      <th>v2</th>\n",
       "      <th>status</th>\n",
       "      <th>len</th>\n",
       "    </tr>\n",
       "  </thead>\n",
       "  <tbody>\n",
       "    <tr>\n",
       "      <th>1978</th>\n",
       "      <td>no i'm in the same boat. still here at my moms...</td>\n",
       "      <td>0</td>\n",
       "      <td>83</td>\n",
       "    </tr>\n",
       "    <tr>\n",
       "      <th>3989</th>\n",
       "      <td>(bank of granite issues strong-buy) explosive ...</td>\n",
       "      <td>1</td>\n",
       "      <td>137</td>\n",
       "    </tr>\n",
       "    <tr>\n",
       "      <th>3935</th>\n",
       "      <td>they r giving a second chance to rahul dengra.</td>\n",
       "      <td>0</td>\n",
       "      <td>46</td>\n",
       "    </tr>\n",
       "    <tr>\n",
       "      <th>4078</th>\n",
       "      <td>o i played smash bros  &amp;lt;#&amp;gt;  religiously.</td>\n",
       "      <td>0</td>\n",
       "      <td>46</td>\n",
       "    </tr>\n",
       "    <tr>\n",
       "      <th>4086</th>\n",
       "      <td>private! your 2003 account statement for 07973...</td>\n",
       "      <td>1</td>\n",
       "      <td>148</td>\n",
       "    </tr>\n",
       "  </tbody>\n",
       "</table>\n",
       "</div>"
      ],
      "text/plain": [
       "                                                     v2  status  len\n",
       "1978  no i'm in the same boat. still here at my moms...       0   83\n",
       "3989  (bank of granite issues strong-buy) explosive ...       1  137\n",
       "3935     they r giving a second chance to rahul dengra.       0   46\n",
       "4078     o i played smash bros  &lt;#&gt;  religiously.       0   46\n",
       "4086  private! your 2003 account statement for 07973...       1  148"
      ]
     },
     "execution_count": 17,
     "metadata": {},
     "output_type": "execute_result"
    }
   ],
   "source": [
    "class ToLowerCase(BaseEstimator, TransformerMixin):\n",
    "    def __init__(self, msg_attr='v2'):\n",
    "        self.msg_attr = msg_attr\n",
    "    def fit(self, X, y=None):\n",
    "        return self\n",
    "    def transform(self, X, y=None):\n",
    "        dataset = X.copy()\n",
    "        dataset[self.msg_attr] = dataset[self.msg_attr].str.lower()\n",
    "        return dataset\n",
    "Xy = ToLowerCase().transform(Xy)\n",
    "Xy.head()"
   ]
  },
  {
   "cell_type": "markdown",
   "metadata": {},
   "source": [
    "#### Delete Stop Words and Punctuations\n",
    "**stop word** is a commonly used word (such as “the”, “a”, “an”, “in”) that a search engine has been programmed to ignore, both when indexing entries for searching and when retrieving them as the result of a search query.\n",
    "\n"
   ]
  },
  {
   "cell_type": "code",
   "execution_count": 18,
   "metadata": {},
   "outputs": [],
   "source": [
    "from nltk.corpus import stopwords\n",
    "from nltk.tokenize import WhitespaceTokenizer\n",
    "import nltk \n",
    "class DeleteStopWordsAndPunc(BaseEstimator, TransformerMixin):\n",
    "    def __init__(self, lang='english', msg_attr='v2'):\n",
    "        self.lang = lang\n",
    "        self.msg_attr = msg_attr\n",
    "        nltk.download('stopwords')\n",
    "        self.stop_words = set(stopwords.words('english')) \n",
    "        self.punctuations = '''!()-[]{};:'\"\\,<>./?@#$%^&*_~+~'''\n",
    "    def fit(self, X, y=None):\n",
    "        return self\n",
    "    def transform(self, X, y=None):\n",
    "        dataset = X.copy()\n",
    "        dataset[self.msg_attr] = dataset[self.msg_attr].apply(self.delete_stop_words)\n",
    "        dataset[self.msg_attr] = dataset[self.msg_attr].apply(self.delete_punc)\n",
    "        return dataset\n",
    "    def delete_stop_words(self, msg):\n",
    "        tokens = WhitespaceTokenizer().tokenize(msg)\n",
    "        return ' '.join([w for w in tokens if w not in self.stop_words])\n",
    "    def delete_punc(self, msg):\n",
    "        no_punct = \"\"\n",
    "        for char in msg:\n",
    "            if char not in self.punctuations:\n",
    "                no_punct = no_punct + char\n",
    "        return no_punct"
   ]
  },
  {
   "cell_type": "markdown",
   "metadata": {},
   "source": [
    "Ok. Now let see dataframe **before** this transform :"
   ]
  },
  {
   "cell_type": "code",
   "execution_count": 19,
   "metadata": {},
   "outputs": [
    {
     "data": {
      "text/html": [
       "<div>\n",
       "<style scoped>\n",
       "    .dataframe tbody tr th:only-of-type {\n",
       "        vertical-align: middle;\n",
       "    }\n",
       "\n",
       "    .dataframe tbody tr th {\n",
       "        vertical-align: top;\n",
       "    }\n",
       "\n",
       "    .dataframe thead th {\n",
       "        text-align: right;\n",
       "    }\n",
       "</style>\n",
       "<table border=\"1\" class=\"dataframe\">\n",
       "  <thead>\n",
       "    <tr style=\"text-align: right;\">\n",
       "      <th></th>\n",
       "      <th>v2</th>\n",
       "      <th>status</th>\n",
       "      <th>len</th>\n",
       "    </tr>\n",
       "  </thead>\n",
       "  <tbody>\n",
       "    <tr>\n",
       "      <th>1978</th>\n",
       "      <td>no i'm in the same boat. still here at my moms...</td>\n",
       "      <td>0</td>\n",
       "      <td>83</td>\n",
       "    </tr>\n",
       "    <tr>\n",
       "      <th>3989</th>\n",
       "      <td>(bank of granite issues strong-buy) explosive ...</td>\n",
       "      <td>1</td>\n",
       "      <td>137</td>\n",
       "    </tr>\n",
       "    <tr>\n",
       "      <th>3935</th>\n",
       "      <td>they r giving a second chance to rahul dengra.</td>\n",
       "      <td>0</td>\n",
       "      <td>46</td>\n",
       "    </tr>\n",
       "    <tr>\n",
       "      <th>4078</th>\n",
       "      <td>o i played smash bros  &amp;lt;#&amp;gt;  religiously.</td>\n",
       "      <td>0</td>\n",
       "      <td>46</td>\n",
       "    </tr>\n",
       "    <tr>\n",
       "      <th>4086</th>\n",
       "      <td>private! your 2003 account statement for 07973...</td>\n",
       "      <td>1</td>\n",
       "      <td>148</td>\n",
       "    </tr>\n",
       "  </tbody>\n",
       "</table>\n",
       "</div>"
      ],
      "text/plain": [
       "                                                     v2  status  len\n",
       "1978  no i'm in the same boat. still here at my moms...       0   83\n",
       "3989  (bank of granite issues strong-buy) explosive ...       1  137\n",
       "3935     they r giving a second chance to rahul dengra.       0   46\n",
       "4078     o i played smash bros  &lt;#&gt;  religiously.       0   46\n",
       "4086  private! your 2003 account statement for 07973...       1  148"
      ]
     },
     "execution_count": 19,
     "metadata": {},
     "output_type": "execute_result"
    }
   ],
   "source": [
    "Xy.head()"
   ]
  },
  {
   "cell_type": "markdown",
   "metadata": {},
   "source": [
    "And **after** :"
   ]
  },
  {
   "cell_type": "code",
   "execution_count": 20,
   "metadata": {},
   "outputs": [
    {
     "name": "stderr",
     "output_type": "stream",
     "text": [
      "[nltk_data] Downloading package stopwords to\n",
      "[nltk_data]     /Users/farzad/nltk_data...\n",
      "[nltk_data]   Package stopwords is already up-to-date!\n"
     ]
    },
    {
     "data": {
      "text/html": [
       "<div>\n",
       "<style scoped>\n",
       "    .dataframe tbody tr th:only-of-type {\n",
       "        vertical-align: middle;\n",
       "    }\n",
       "\n",
       "    .dataframe tbody tr th {\n",
       "        vertical-align: top;\n",
       "    }\n",
       "\n",
       "    .dataframe thead th {\n",
       "        text-align: right;\n",
       "    }\n",
       "</style>\n",
       "<table border=\"1\" class=\"dataframe\">\n",
       "  <thead>\n",
       "    <tr style=\"text-align: right;\">\n",
       "      <th></th>\n",
       "      <th>v2</th>\n",
       "      <th>status</th>\n",
       "      <th>len</th>\n",
       "    </tr>\n",
       "  </thead>\n",
       "  <tbody>\n",
       "    <tr>\n",
       "      <th>1978</th>\n",
       "      <td>im boat still moms check yo im half naked</td>\n",
       "      <td>0</td>\n",
       "      <td>83</td>\n",
       "    </tr>\n",
       "    <tr>\n",
       "      <th>3989</th>\n",
       "      <td>bank granite issues strongbuy explosive pick m...</td>\n",
       "      <td>1</td>\n",
       "      <td>137</td>\n",
       "    </tr>\n",
       "    <tr>\n",
       "      <th>3935</th>\n",
       "      <td>r giving second chance rahul dengra</td>\n",
       "      <td>0</td>\n",
       "      <td>46</td>\n",
       "    </tr>\n",
       "    <tr>\n",
       "      <th>4078</th>\n",
       "      <td>played smash bros ltgt religiously</td>\n",
       "      <td>0</td>\n",
       "      <td>46</td>\n",
       "    </tr>\n",
       "    <tr>\n",
       "      <th>4086</th>\n",
       "      <td>private 2003 account statement 07973788240 sho...</td>\n",
       "      <td>1</td>\n",
       "      <td>148</td>\n",
       "    </tr>\n",
       "  </tbody>\n",
       "</table>\n",
       "</div>"
      ],
      "text/plain": [
       "                                                     v2  status  len\n",
       "1978          im boat still moms check yo im half naked       0   83\n",
       "3989  bank granite issues strongbuy explosive pick m...       1  137\n",
       "3935                r giving second chance rahul dengra       0   46\n",
       "4078                 played smash bros ltgt religiously       0   46\n",
       "4086  private 2003 account statement 07973788240 sho...       1  148"
      ]
     },
     "execution_count": 20,
     "metadata": {},
     "output_type": "execute_result"
    }
   ],
   "source": [
    "Xy = DeleteStopWordsAndPunc().transform(Xy)\n",
    "Xy.head()"
   ]
  },
  {
   "cell_type": "markdown",
   "metadata": {},
   "source": [
    "#### Stemming Words\n",
    "Stemming is the process of producing morphological variants of a root/base word. Stemming programs are commonly referred to as stemming algorithms or stemmers. A stemming algorithm reduces the words “chocolates”, “chocolatey”, “choco” to the root word, “chocolate” and “retrieval”, “retrieved”, “retrieves” reduce to the stem “retrieve”.\n",
    "\n",
    "Last part of cleaning messages are stemming them. with stemming them we improve chance of finding apearance of a word in messages. To stemming words we can use `nltk` library. It provide us usefull tools to stemming words."
   ]
  },
  {
   "cell_type": "code",
   "execution_count": 21,
   "metadata": {},
   "outputs": [],
   "source": [
    "from nltk.stem import PorterStemmer\n",
    "class Stemmer(BaseEstimator, TransformerMixin):\n",
    "    def __init__(self, msg_attr='v2'):\n",
    "        self.msg_attr = msg_attr\n",
    "    def fit(self, X, y=None):\n",
    "        return self\n",
    "    def transform(self, X, y=None):\n",
    "        dataset = X.copy()\n",
    "        dataset[self.msg_attr] = dataset[self.msg_attr].apply(self.stemming)\n",
    "        return dataset\n",
    "    def stemming(self, msg):\n",
    "        return ' '.join([PorterStemmer().stem(w) for w in WhitespaceTokenizer().tokenize(msg)])"
   ]
  },
  {
   "cell_type": "code",
   "execution_count": 22,
   "metadata": {},
   "outputs": [
    {
     "data": {
      "text/html": [
       "<div>\n",
       "<style scoped>\n",
       "    .dataframe tbody tr th:only-of-type {\n",
       "        vertical-align: middle;\n",
       "    }\n",
       "\n",
       "    .dataframe tbody tr th {\n",
       "        vertical-align: top;\n",
       "    }\n",
       "\n",
       "    .dataframe thead th {\n",
       "        text-align: right;\n",
       "    }\n",
       "</style>\n",
       "<table border=\"1\" class=\"dataframe\">\n",
       "  <thead>\n",
       "    <tr style=\"text-align: right;\">\n",
       "      <th></th>\n",
       "      <th>v2</th>\n",
       "      <th>status</th>\n",
       "      <th>len</th>\n",
       "    </tr>\n",
       "  </thead>\n",
       "  <tbody>\n",
       "    <tr>\n",
       "      <th>1978</th>\n",
       "      <td>im boat still mom check yo im half nake</td>\n",
       "      <td>0</td>\n",
       "      <td>83</td>\n",
       "    </tr>\n",
       "    <tr>\n",
       "      <th>3989</th>\n",
       "      <td>bank granit issu strongbuy explos pick member ...</td>\n",
       "      <td>1</td>\n",
       "      <td>137</td>\n",
       "    </tr>\n",
       "    <tr>\n",
       "      <th>3935</th>\n",
       "      <td>r give second chanc rahul dengra</td>\n",
       "      <td>0</td>\n",
       "      <td>46</td>\n",
       "    </tr>\n",
       "    <tr>\n",
       "      <th>4078</th>\n",
       "      <td>play smash bro ltgt religi</td>\n",
       "      <td>0</td>\n",
       "      <td>46</td>\n",
       "    </tr>\n",
       "    <tr>\n",
       "      <th>4086</th>\n",
       "      <td>privat 2003 account statement 07973788240 show...</td>\n",
       "      <td>1</td>\n",
       "      <td>148</td>\n",
       "    </tr>\n",
       "  </tbody>\n",
       "</table>\n",
       "</div>"
      ],
      "text/plain": [
       "                                                     v2  status  len\n",
       "1978            im boat still mom check yo im half nake       0   83\n",
       "3989  bank granit issu strongbuy explos pick member ...       1  137\n",
       "3935                   r give second chanc rahul dengra       0   46\n",
       "4078                         play smash bro ltgt religi       0   46\n",
       "4086  privat 2003 account statement 07973788240 show...       1  148"
      ]
     },
     "execution_count": 22,
     "metadata": {},
     "output_type": "execute_result"
    }
   ],
   "source": [
    "Xy = Stemmer().transform(Xy)\n",
    "Xy.head()"
   ]
  },
  {
   "cell_type": "markdown",
   "metadata": {},
   "source": [
    "#### Change Numbers and Urls\n",
    "In this section we change numbers to string `NUMBER` and change urls to `URL`. Because existence of url or number is important for us. Not that number or url itself.\n"
   ]
  },
  {
   "cell_type": "code",
   "execution_count": 23,
   "metadata": {},
   "outputs": [],
   "source": [
    "import re #regex\n",
    "class ChangeNumbersAndUrls(BaseEstimator, TransformerMixin):\n",
    "    def __init__(self, msg_attr='v2'):\n",
    "        self.msg_attr = msg_attr\n",
    "        self.url_regex = re.compile(\n",
    "                    r'^(?:http|ftp)s?://' # http:// or https://\n",
    "                    r'(?:(?:[A-Z0-9](?:[A-Z0-9-]{0,61}[A-Z0-9])?\\.)+(?:[A-Z]{2,6}\\.?|[A-Z0-9-]{2,}\\.?)|' #domain...\n",
    "                    r'\\d{1,3}\\.\\d{1,3}\\.\\d{1,3}\\.\\d{1,3})' # ...or ip\n",
    "                    r'(?::\\d+)?' # optional port\n",
    "                    r'(?:/?|[/?]\\S+)$', re.IGNORECASE)\n",
    "    def fit(self, X, y=None):\n",
    "        return self\n",
    "    def transform(self, X, y=None):\n",
    "        dataset = X.copy()\n",
    "        dataset[self.msg_attr] = dataset[self.msg_attr].apply(self.change_urls_numbers)\n",
    "        return dataset\n",
    "    def change_urls_numbers(self, msg):\n",
    "        tokens = WhitespaceTokenizer().tokenize(msg)\n",
    "        new_msg = []\n",
    "        for w in tokens:\n",
    "            if w.isnumeric() :\n",
    "                new_msg.append('NUMBER')\n",
    "            elif re.match(self.url_regex, w):\n",
    "                new_msg.append('URL')\n",
    "            else : new_msg.append(w)\n",
    "        return ' '.join(new_msg)"
   ]
  },
  {
   "cell_type": "code",
   "execution_count": 24,
   "metadata": {},
   "outputs": [
    {
     "data": {
      "text/html": [
       "<div>\n",
       "<style scoped>\n",
       "    .dataframe tbody tr th:only-of-type {\n",
       "        vertical-align: middle;\n",
       "    }\n",
       "\n",
       "    .dataframe tbody tr th {\n",
       "        vertical-align: top;\n",
       "    }\n",
       "\n",
       "    .dataframe thead th {\n",
       "        text-align: right;\n",
       "    }\n",
       "</style>\n",
       "<table border=\"1\" class=\"dataframe\">\n",
       "  <thead>\n",
       "    <tr style=\"text-align: right;\">\n",
       "      <th></th>\n",
       "      <th>v2</th>\n",
       "      <th>status</th>\n",
       "      <th>len</th>\n",
       "    </tr>\n",
       "  </thead>\n",
       "  <tbody>\n",
       "    <tr>\n",
       "      <th>1978</th>\n",
       "      <td>im boat still mom check yo im half nake</td>\n",
       "      <td>0</td>\n",
       "      <td>83</td>\n",
       "    </tr>\n",
       "    <tr>\n",
       "      <th>3989</th>\n",
       "      <td>bank granit issu strongbuy explos pick member ...</td>\n",
       "      <td>1</td>\n",
       "      <td>137</td>\n",
       "    </tr>\n",
       "    <tr>\n",
       "      <th>3935</th>\n",
       "      <td>r give second chanc rahul dengra</td>\n",
       "      <td>0</td>\n",
       "      <td>46</td>\n",
       "    </tr>\n",
       "    <tr>\n",
       "      <th>4078</th>\n",
       "      <td>play smash bro ltgt religi</td>\n",
       "      <td>0</td>\n",
       "      <td>46</td>\n",
       "    </tr>\n",
       "    <tr>\n",
       "      <th>4086</th>\n",
       "      <td>privat NUMBER account statement NUMBER show NU...</td>\n",
       "      <td>1</td>\n",
       "      <td>148</td>\n",
       "    </tr>\n",
       "  </tbody>\n",
       "</table>\n",
       "</div>"
      ],
      "text/plain": [
       "                                                     v2  status  len\n",
       "1978            im boat still mom check yo im half nake       0   83\n",
       "3989  bank granit issu strongbuy explos pick member ...       1  137\n",
       "3935                   r give second chanc rahul dengra       0   46\n",
       "4078                         play smash bro ltgt religi       0   46\n",
       "4086  privat NUMBER account statement NUMBER show NU...       1  148"
      ]
     },
     "execution_count": 24,
     "metadata": {},
     "output_type": "execute_result"
    }
   ],
   "source": [
    "Xy = ChangeNumbersAndUrls().transform(Xy)\n",
    "Xy.head()"
   ]
  },
  {
   "cell_type": "markdown",
   "metadata": {},
   "source": [
    "### Converting \n",
    "Last, but certainly not least, we'll deal with formatting. For this problem we said that we want to make a matrix of existence of every word in message. \n",
    "\n",
    "* First we should find all seperate words\n",
    "* Then fill all words existence in matrix"
   ]
  },
  {
   "cell_type": "code",
   "execution_count": 25,
   "metadata": {},
   "outputs": [],
   "source": [
    "class CreateExistenceMatrix(BaseEstimator, TransformerMixin):\n",
    "    def __init__(self, msg_attr='v2', len_index=2):\n",
    "        self.word_set = set({})\n",
    "        self.msg_attr = msg_attr\n",
    "        self.len_index = len_index\n",
    "    def fit(self, X, y=None):\n",
    "        for m in X[self.msg_attr]: \n",
    "            for w in WhitespaceTokenizer().tokenize(m):\n",
    "                self.word_set.add(w)\n",
    "        return self\n",
    "    def transform(self, X, y=None):\n",
    "        dataset = X.copy()\n",
    "        for word in self.word_set:\n",
    "            dataset[word] = 0\n",
    "        indices = dataset.columns[self.len_index:]\n",
    "        for index, row in dataset.iterrows():\n",
    "            tokens = WhitespaceTokenizer().tokenize(row[self.msg_attr])\n",
    "            for word in tokens:\n",
    "                if word in dataset.columns:\n",
    "                    dataset.at[index, word] = dataset.at[index, word] + 1\n",
    "        return dataset\n",
    "    def fit_transform(self, X, y=None):\n",
    "        return self.fit(X, y).transform(X, y)"
   ]
  },
  {
   "cell_type": "code",
   "execution_count": 26,
   "metadata": {},
   "outputs": [],
   "source": [
    "Xy = CreateExistenceMatrix(len_index=3).fit_transform(Xy)"
   ]
  },
  {
   "cell_type": "markdown",
   "metadata": {},
   "source": [
    "### Conver to Sparse Matrix \n",
    "Sparse matrix just contains vlues which is not zero. And there is lots of algorithms which support sparse matrix. So we can have a very faster way to classify our big matrix."
   ]
  },
  {
   "cell_type": "code",
   "execution_count": 27,
   "metadata": {},
   "outputs": [],
   "source": [
    "from scipy.sparse import csr_matrix\n",
    "class ToSparseMatrix(BaseEstimator, TransformerMixin):\n",
    "    def __init__(self, msg_attr='v2'):\n",
    "        self.msg_attr = msg_attr\n",
    "    def fit(self, X, y=None):\n",
    "        return self\n",
    "    def transform(self, X, y=None):\n",
    "        return csr_matrix(X.drop(self.msg_attr, axis=1).values)\n",
    "Xy = ToSparseMatrix().transform(Xy)"
   ]
  },
  {
   "cell_type": "markdown",
   "metadata": {},
   "source": [
    "## Create Pipeline\n",
    "sklearn pipelines help us to set a pipeline for all of our process. Here we make a pipeline to process all we did to here in a single pipeline"
   ]
  },
  {
   "cell_type": "code",
   "execution_count": 28,
   "metadata": {},
   "outputs": [
    {
     "name": "stderr",
     "output_type": "stream",
     "text": [
      "[nltk_data] Downloading package stopwords to\n",
      "[nltk_data]     /Users/farzad/nltk_data...\n",
      "[nltk_data]   Package stopwords is already up-to-date!\n"
     ]
    }
   ],
   "source": [
    "from sklearn.pipeline import Pipeline\n",
    "attrs = ['v2']\n",
    "full_pipeline = Pipeline([\n",
    "    ('selector', DataFrameSelection(attrs)),\n",
    "    ('length_adder', LengthAdder()),\n",
    "    ('to_lower', ToLowerCase()),\n",
    "    ('delete_stop_punc', DeleteStopWordsAndPunc()),\n",
    "    ('stemming', Stemmer()),\n",
    "    ('change_number_url', ChangeNumbersAndUrls()),\n",
    "    ('create_existance', CreateExistenceMatrix()),\n",
    "    ('to_sparse', ToSparseMatrix()),\n",
    "])"
   ]
  },
  {
   "cell_type": "code",
   "execution_count": 29,
   "metadata": {},
   "outputs": [],
   "source": [
    "X_train_sparse = full_pipeline.fit_transform(X_train)"
   ]
  },
  {
   "cell_type": "markdown",
   "metadata": {},
   "source": [
    "## Modeling\n",
    "Now lets do the magic. Here we select some classificaiton models. For this i use RandomForest model from tree models, SGD model from linear models and some Navie Bayes modles. We examine all models and select some of them to optimise and make them better. \n"
   ]
  },
  {
   "cell_type": "markdown",
   "metadata": {},
   "source": [
    "Our error scoring use precision, recall and f1_score. If you don't know what they are you can find usefull informations [here](https://en.wikipedia.org/wiki/Precision_and_recall). \n",
    "\n",
    "First we define all of our models in an array. \n"
   ]
  },
  {
   "cell_type": "code",
   "execution_count": 30,
   "metadata": {},
   "outputs": [],
   "source": [
    "from sklearn.ensemble import RandomForestClassifier\n",
    "from sklearn.naive_bayes import MultinomialNB, ComplementNB, BernoulliNB\n",
    "from sklearn.linear_model import SGDClassifier\n",
    "from sklearn.svm import SVC\n",
    "from sklearn.neighbors import KNeighborsClassifier\n",
    "models = [\n",
    "    ('svc', SVC(kernel='rbf')),\n",
    "    ('neighbors', KNeighborsClassifier(3)),\n",
    "    ('random_forest', RandomForestClassifier()),\n",
    "    ('sgd', SGDClassifier()), \n",
    "    ('mutlinomial_nb', MultinomialNB()),\n",
    "    ('complement_nb', ComplementNB()),\n",
    "    ('bernoli_nb', BernoulliNB()),\n",
    "]"
   ]
  },
  {
   "cell_type": "markdown",
   "metadata": {},
   "source": [
    "Then compute every score for all of them."
   ]
  },
  {
   "cell_type": "code",
   "execution_count": 31,
   "metadata": {},
   "outputs": [],
   "source": [
    "from sklearn.model_selection import cross_val_predict\n",
    "from sklearn.metrics import f1_score, recall_score, precision_score, precision_recall_curve, roc_curve\n",
    "scores = pd.DataFrame([], columns=['model_name', 'f1', 'precision', 'recall'])\n",
    "for model in models:\n",
    "    predictions = cross_val_predict(model[1], X_train_sparse, y_train, cv=3, n_jobs=-1)\n",
    "    scores = scores.append({\n",
    "        'model_name':model[0],\n",
    "        'f1': f1_score(y_train, predictions),\n",
    "        'precision': precision_score(y_train, predictions),\n",
    "        'recall': recall_score(y_train, predictions),\n",
    "    }, ignore_index=True)"
   ]
  },
  {
   "cell_type": "code",
   "execution_count": 32,
   "metadata": {},
   "outputs": [
    {
     "data": {
      "text/html": [
       "<div>\n",
       "<style scoped>\n",
       "    .dataframe tbody tr th:only-of-type {\n",
       "        vertical-align: middle;\n",
       "    }\n",
       "\n",
       "    .dataframe tbody tr th {\n",
       "        vertical-align: top;\n",
       "    }\n",
       "\n",
       "    .dataframe thead th {\n",
       "        text-align: right;\n",
       "    }\n",
       "</style>\n",
       "<table border=\"1\" class=\"dataframe\">\n",
       "  <thead>\n",
       "    <tr style=\"text-align: right;\">\n",
       "      <th></th>\n",
       "      <th>model_name</th>\n",
       "      <th>f1</th>\n",
       "      <th>precision</th>\n",
       "      <th>recall</th>\n",
       "    </tr>\n",
       "  </thead>\n",
       "  <tbody>\n",
       "    <tr>\n",
       "      <th>0</th>\n",
       "      <td>svc</td>\n",
       "      <td>0.581897</td>\n",
       "      <td>0.815710</td>\n",
       "      <td>0.452261</td>\n",
       "    </tr>\n",
       "    <tr>\n",
       "      <th>1</th>\n",
       "      <td>neighbors</td>\n",
       "      <td>0.801364</td>\n",
       "      <td>0.815972</td>\n",
       "      <td>0.787270</td>\n",
       "    </tr>\n",
       "    <tr>\n",
       "      <th>2</th>\n",
       "      <td>random_forest</td>\n",
       "      <td>0.878731</td>\n",
       "      <td>0.991579</td>\n",
       "      <td>0.788945</td>\n",
       "    </tr>\n",
       "    <tr>\n",
       "      <th>3</th>\n",
       "      <td>sgd</td>\n",
       "      <td>0.516614</td>\n",
       "      <td>0.412826</td>\n",
       "      <td>0.690117</td>\n",
       "    </tr>\n",
       "    <tr>\n",
       "      <th>4</th>\n",
       "      <td>mutlinomial_nb</td>\n",
       "      <td>0.917749</td>\n",
       "      <td>0.949821</td>\n",
       "      <td>0.887772</td>\n",
       "    </tr>\n",
       "    <tr>\n",
       "      <th>5</th>\n",
       "      <td>complement_nb</td>\n",
       "      <td>0.871508</td>\n",
       "      <td>0.832317</td>\n",
       "      <td>0.914573</td>\n",
       "    </tr>\n",
       "    <tr>\n",
       "      <th>6</th>\n",
       "      <td>bernoli_nb</td>\n",
       "      <td>0.865562</td>\n",
       "      <td>0.961145</td>\n",
       "      <td>0.787270</td>\n",
       "    </tr>\n",
       "  </tbody>\n",
       "</table>\n",
       "</div>"
      ],
      "text/plain": [
       "       model_name        f1  precision    recall\n",
       "0             svc  0.581897   0.815710  0.452261\n",
       "1       neighbors  0.801364   0.815972  0.787270\n",
       "2   random_forest  0.878731   0.991579  0.788945\n",
       "3             sgd  0.516614   0.412826  0.690117\n",
       "4  mutlinomial_nb  0.917749   0.949821  0.887772\n",
       "5   complement_nb  0.871508   0.832317  0.914573\n",
       "6      bernoli_nb  0.865562   0.961145  0.787270"
      ]
     },
     "execution_count": 32,
     "metadata": {},
     "output_type": "execute_result"
    }
   ],
   "source": [
    "scores"
   ]
  },
  {
   "cell_type": "markdown",
   "metadata": {},
   "source": [
    "## Optimise and Strategize \n",
    "Now we should see what is important for us. Well in spam problem it is important to block all spams and recognize not spam messages. But we can say it is more important to block all spams. So we can say `precision` and `recall` are both important. but `recall` is more important than `precision`.\n",
    "\n",
    "So if model have a low f1 it is not good for us. it also should have a recall more than 90. \n",
    "\n",
    "Ok. We select `multinomial navie bayes`. Also we can select `random forest` because it has a high precision and we can sacrifise it to get more recall. "
   ]
  },
  {
   "cell_type": "markdown",
   "metadata": {},
   "source": [
    "### Try to Select Best Model\n",
    "We know we can change precision to have better recall. For that we see all possible probablity thresholds for every model to select best threshold. \n",
    "\n",
    "So we plot recall precisions with various thresholds."
   ]
  },
  {
   "cell_type": "code",
   "execution_count": 33,
   "metadata": {},
   "outputs": [],
   "source": [
    "def show_plot_precision_recall(precision, recall, threshold, model_name, ax):\n",
    "    ax.plot(threshold, precision[:-1], \"b--\", label=\"Precision\")\n",
    "    ax.plot(threshold, recall[:-1], \"r-\", label=\"Recall\")\n",
    "    ax.set_xlabel(\"Threshold\")\n",
    "    ax.set_ylabel(model_name)\n",
    "    ax.legend(loc=\"lower right\")\n",
    "    ax.set_ylim([0, 1])"
   ]
  },
  {
   "cell_type": "code",
   "execution_count": 34,
   "metadata": {},
   "outputs": [
    {
     "data": {
      "image/png": "[encoded data removed]",
      "text/plain": [
       "<Figure size 1440x1080 with 7 Axes>"
      ]
     },
     "metadata": {},
     "output_type": "display_data"
    }
   ],
   "source": [
    "def draw_models_score_plot(models):\n",
    "    i = 1\n",
    "    fig = plt.figure(figsize=(20, 15))\n",
    "    fig.subplots_adjust(hspace=0.4)\n",
    "    for model in models:\n",
    "        ax = fig.add_subplot(3, 3, i)\n",
    "        i+= 1\n",
    "        y_scores = []\n",
    "        if hasattr(model[1], \"decision_function\"):\n",
    "            y_scores = cross_val_predict(model[1], X_train_sparse, y_train, cv=3, method=\"decision_function\", n_jobs=-1)\n",
    "        else :\n",
    "            y_probs = cross_val_predict(model[1], X_train_sparse, y_train, cv=3, method=\"predict_proba\", n_jobs=-1)\n",
    "            y_scores = y_probs[:, -1]\n",
    "        precision, recall, thresholds = precision_recall_curve(y_train, y_scores)\n",
    "        show_plot_precision_recall(precision, recall, thresholds, model[0], ax)\n",
    "draw_models_score_plot(models) "
   ]
  },
  {
   "cell_type": "markdown",
   "metadata": {},
   "source": [
    "\n",
    "From these plots we recognize we should select one of navie bayes.\n",
    "\n",
    "These kind of models have an aplha parameters which is very important. So let select three of them."
   ]
  },
  {
   "cell_type": "code",
   "execution_count": 35,
   "metadata": {
    "scrolled": false
   },
   "outputs": [
    {
     "data": {
      "image/png": "[encoded data removed]",
      "text/plain": [
       "<Figure size 1440x1080 with 9 Axes>"
      ]
     },
     "metadata": {},
     "output_type": "display_data"
    }
   ],
   "source": [
    "models = [\n",
    "    ('mutlinomial_nb_0.2', MultinomialNB(alpha=0.2)),\n",
    "    ('mutlinomial_nb_0.5', MultinomialNB(alpha=0.5)),\n",
    "    ('mutlinomial_nb_1', MultinomialNB(alpha=1.0)),\n",
    "    ('complement_nb_0.2', ComplementNB(alpha=0.2)),\n",
    "    ('complement_nb_0.5', ComplementNB(alpha=0.5)),\n",
    "    ('complement_nb_1', ComplementNB(alpha=1)),\n",
    "    ('bernoli_nb_0.2', BernoulliNB(alpha=0.2)),\n",
    "    ('bernoli_nb_0.5', BernoulliNB(alpha=0.5)),\n",
    "    ('bernoli_nb_1', BernoulliNB(alpha=1)),\n",
    "]\n",
    "draw_models_score_plot(models)"
   ]
  },
  {
   "cell_type": "markdown",
   "metadata": {},
   "source": [
    "As you see we can select a bernoli navie bayes with low alpha to have great score in both recall and precision. "
   ]
  },
  {
   "cell_type": "markdown",
   "metadata": {},
   "source": [
    "### Try to Select Best HyperParameters \n",
    "For this goal we use grid search. It means try some possible hyperparameters of model but using sklearn tools. \n",
    "\n",
    "We use recall scoring. because recall is more important for us."
   ]
  },
  {
   "cell_type": "code",
   "execution_count": 36,
   "metadata": {},
   "outputs": [
    {
     "name": "stderr",
     "output_type": "stream",
     "text": [
      "/usr/local/lib/python3.7/site-packages/sklearn/model_selection/_split.py:1978: FutureWarning: The default value of cv will change from 3 to 5 in version 0.22. Specify it explicitly to silence this warning.\n",
      "  warnings.warn(CV_WARNING, FutureWarning)\n",
      "/usr/local/lib/python3.7/site-packages/sklearn/naive_bayes.py:485: UserWarning: alpha too small will result in numeric errors, setting alpha = 1.0e-10\n",
      "  'setting alpha = %.1e' % _ALPHA_MIN)\n",
      "/usr/local/lib/python3.7/site-packages/sklearn/naive_bayes.py:485: UserWarning: alpha too small will result in numeric errors, setting alpha = 1.0e-10\n",
      "  'setting alpha = %.1e' % _ALPHA_MIN)\n",
      "/usr/local/lib/python3.7/site-packages/sklearn/naive_bayes.py:485: UserWarning: alpha too small will result in numeric errors, setting alpha = 1.0e-10\n",
      "  'setting alpha = %.1e' % _ALPHA_MIN)\n",
      "/usr/local/lib/python3.7/site-packages/sklearn/naive_bayes.py:485: UserWarning: alpha too small will result in numeric errors, setting alpha = 1.0e-10\n",
      "  'setting alpha = %.1e' % _ALPHA_MIN)\n",
      "/usr/local/lib/python3.7/site-packages/sklearn/naive_bayes.py:485: UserWarning: alpha too small will result in numeric errors, setting alpha = 1.0e-10\n",
      "  'setting alpha = %.1e' % _ALPHA_MIN)\n",
      "/usr/local/lib/python3.7/site-packages/sklearn/naive_bayes.py:485: UserWarning: alpha too small will result in numeric errors, setting alpha = 1.0e-10\n",
      "  'setting alpha = %.1e' % _ALPHA_MIN)\n"
     ]
    },
    {
     "data": {
      "text/plain": [
       "0.9396996199304805"
      ]
     },
     "execution_count": 36,
     "metadata": {},
     "output_type": "execute_result"
    }
   ],
   "source": [
    "from sklearn.model_selection import GridSearchCV\n",
    "estimator = BernoulliNB()\n",
    "grid_params = {\n",
    "    'alpha': [0, 0.11, 0.12, 0.13, 0.14, 0.15, 0.16, 0.17, 0.18, 0.19, 0.2],\n",
    "    'fit_prior': [True, False],\n",
    "}\n",
    "grid_search = GridSearchCV(estimator, grid_params, scoring='recall')\n",
    "grid_search.fit(X_train_sparse, y_train)\n",
    "grid_search.best_score_"
   ]
  },
  {
   "cell_type": "code",
   "execution_count": 37,
   "metadata": {},
   "outputs": [
    {
     "data": {
      "text/plain": [
       "BernoulliNB(alpha=0.14, binarize=0.0, class_prior=None, fit_prior=False)"
      ]
     },
     "execution_count": 37,
     "metadata": {},
     "output_type": "execute_result"
    }
   ],
   "source": [
    "best_estimator = grid_search.best_estimator_\n",
    "best_estimator"
   ]
  },
  {
   "cell_type": "markdown",
   "metadata": {},
   "source": [
    "Now lets select a good threshold to have both good recall and precision. "
   ]
  },
  {
   "cell_type": "code",
   "execution_count": 38,
   "metadata": {},
   "outputs": [
    {
     "data": {
      "image/png": "[encoded data removed]",
      "text/plain": [
       "<Figure size 432x288 with 1 Axes>"
      ]
     },
     "metadata": {},
     "output_type": "display_data"
    }
   ],
   "source": [
    "y_probs = cross_val_predict(best_estimator, X_train_sparse, y_train, cv=3, method=\"predict_proba\", n_jobs=-1)\n",
    "y_scores = y_probs[:, -1]\n",
    "precision, recall, thresholds = precision_recall_curve(y_train, y_scores)\n",
    "show_plot_precision_recall(precision, recall, thresholds, \"Bernoli NB\", plt.figure().add_subplot())"
   ]
  },
  {
   "cell_type": "markdown",
   "metadata": {},
   "source": [
    "Well we can select threshold now. I select 0.4 threshold. Because it have a better recall and good precision. We should see what we need. Here recall is more important for me."
   ]
  },
  {
   "cell_type": "code",
   "execution_count": 39,
   "metadata": {},
   "outputs": [],
   "source": [
    "def predict(estimator, X, threshold=0.5):\n",
    "    y_probs = estimator.predict_proba(X)[:,1]\n",
    "    return (y_probs >= threshold)"
   ]
  },
  {
   "cell_type": "code",
   "execution_count": 40,
   "metadata": {},
   "outputs": [],
   "source": [
    "X_test_transformed = full_pipeline.transform(X_test)"
   ]
  },
  {
   "cell_type": "code",
   "execution_count": 41,
   "metadata": {},
   "outputs": [
    {
     "name": "stdout",
     "output_type": "stream",
     "text": [
      "Precision is 0.9856115107913669\n",
      "Recall is 0.9133333333333333\n",
      "F1 Score is 0.9480968858131488\n"
     ]
    }
   ],
   "source": [
    "test_predictions = predict(best_estimator, X_test_transformed, 0.4)\n",
    "recall = recall_score(y_test, test_predictions)\n",
    "precision = precision_score(y_test, test_predictions)\n",
    "f1 = f1_score(y_test, test_predictions)\n",
    "print(f'Precision is {precision}\\nRecall is {recall}\\nF1 Score is {f1}')"
   ]
  },
  {
   "cell_type": "code",
   "execution_count": null,
   "metadata": {},
   "outputs": [],
   "source": []
  }
 ],
 "metadata": {
  "kernelspec": {
   "display_name": "Python 3",
   "language": "python",
   "name": "python3"
  },
  "language_info": {
   "codemirror_mode": {
    "name": "ipython",
    "version": 3
   },
   "file_extension": ".py",
   "mimetype": "text/x-python",
   "name": "python",
   "nbconvert_exporter": "python",
   "pygments_lexer": "ipython3",
   "version": "3.7.0"
  }
 },
 "nbformat": 4,
 "nbformat_minor": 1
}
